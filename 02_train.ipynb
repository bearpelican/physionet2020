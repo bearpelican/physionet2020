{
 "cells": [
  {
   "cell_type": "code",
   "execution_count": 1,
   "metadata": {},
   "outputs": [],
   "source": [
    "# default_exp train"
   ]
  },
  {
   "cell_type": "code",
   "execution_count": 2,
   "metadata": {},
   "outputs": [],
   "source": [
    "# export\n",
    "from fastai2.basics import *\n",
    "from fastai2.vision.all import *\n",
    "from physionet2020.preprocess import *"
   ]
  },
  {
   "cell_type": "markdown",
   "metadata": {},
   "source": [
    "## Load data"
   ]
  },
  {
   "cell_type": "code",
   "execution_count": 3,
   "metadata": {},
   "outputs": [
    {
     "data": {
      "text/html": [
       "<div>\n",
       "<style scoped>\n",
       "    .dataframe tbody tr th:only-of-type {\n",
       "        vertical-align: middle;\n",
       "    }\n",
       "\n",
       "    .dataframe tbody tr th {\n",
       "        vertical-align: top;\n",
       "    }\n",
       "\n",
       "    .dataframe thead th {\n",
       "        text-align: right;\n",
       "    }\n",
       "</style>\n",
       "<table border=\"1\" class=\"dataframe\">\n",
       "  <thead>\n",
       "    <tr style=\"text-align: right;\">\n",
       "      <th></th>\n",
       "      <th>Age</th>\n",
       "      <th>Sex</th>\n",
       "      <th>Dx</th>\n",
       "      <th>Rx</th>\n",
       "      <th>Hx</th>\n",
       "      <th>Sx</th>\n",
       "      <th>Normal</th>\n",
       "      <th>AF</th>\n",
       "      <th>I-AVB</th>\n",
       "      <th>LBBB</th>\n",
       "      <th>RBBB</th>\n",
       "      <th>PAC</th>\n",
       "      <th>PVC</th>\n",
       "      <th>STD</th>\n",
       "      <th>STE</th>\n",
       "    </tr>\n",
       "    <tr>\n",
       "      <th>PID</th>\n",
       "      <th></th>\n",
       "      <th></th>\n",
       "      <th></th>\n",
       "      <th></th>\n",
       "      <th></th>\n",
       "      <th></th>\n",
       "      <th></th>\n",
       "      <th></th>\n",
       "      <th></th>\n",
       "      <th></th>\n",
       "      <th></th>\n",
       "      <th></th>\n",
       "      <th></th>\n",
       "      <th></th>\n",
       "      <th></th>\n",
       "    </tr>\n",
       "  </thead>\n",
       "  <tbody>\n",
       "    <tr>\n",
       "      <th>A1516</th>\n",
       "      <td>82.0</td>\n",
       "      <td>Male</td>\n",
       "      <td>PAC</td>\n",
       "      <td>Unknown</td>\n",
       "      <td>Unknown</td>\n",
       "      <td>Unknows</td>\n",
       "      <td>0</td>\n",
       "      <td>0</td>\n",
       "      <td>0</td>\n",
       "      <td>0</td>\n",
       "      <td>0</td>\n",
       "      <td>1</td>\n",
       "      <td>0</td>\n",
       "      <td>0</td>\n",
       "      <td>0</td>\n",
       "    </tr>\n",
       "    <tr>\n",
       "      <th>A2989</th>\n",
       "      <td>87.0</td>\n",
       "      <td>Female</td>\n",
       "      <td>RBBB</td>\n",
       "      <td>Unknown</td>\n",
       "      <td>Unknown</td>\n",
       "      <td>Unknows</td>\n",
       "      <td>0</td>\n",
       "      <td>0</td>\n",
       "      <td>0</td>\n",
       "      <td>0</td>\n",
       "      <td>1</td>\n",
       "      <td>0</td>\n",
       "      <td>0</td>\n",
       "      <td>0</td>\n",
       "      <td>0</td>\n",
       "    </tr>\n",
       "    <tr>\n",
       "      <th>A0109</th>\n",
       "      <td>75.0</td>\n",
       "      <td>Female</td>\n",
       "      <td>AF,RBBB</td>\n",
       "      <td>Unknown</td>\n",
       "      <td>Unknown</td>\n",
       "      <td>Unknows</td>\n",
       "      <td>0</td>\n",
       "      <td>1</td>\n",
       "      <td>0</td>\n",
       "      <td>0</td>\n",
       "      <td>1</td>\n",
       "      <td>0</td>\n",
       "      <td>0</td>\n",
       "      <td>0</td>\n",
       "      <td>0</td>\n",
       "    </tr>\n",
       "    <tr>\n",
       "      <th>A3465</th>\n",
       "      <td>24.0</td>\n",
       "      <td>Female</td>\n",
       "      <td>Normal</td>\n",
       "      <td>Unknown</td>\n",
       "      <td>Unknown</td>\n",
       "      <td>Unknows</td>\n",
       "      <td>1</td>\n",
       "      <td>0</td>\n",
       "      <td>0</td>\n",
       "      <td>0</td>\n",
       "      <td>0</td>\n",
       "      <td>0</td>\n",
       "      <td>0</td>\n",
       "      <td>0</td>\n",
       "      <td>0</td>\n",
       "    </tr>\n",
       "    <tr>\n",
       "      <th>A5081</th>\n",
       "      <td>65.0</td>\n",
       "      <td>Male</td>\n",
       "      <td>PVC</td>\n",
       "      <td>Unknown</td>\n",
       "      <td>Unknown</td>\n",
       "      <td>Unknows</td>\n",
       "      <td>0</td>\n",
       "      <td>0</td>\n",
       "      <td>0</td>\n",
       "      <td>0</td>\n",
       "      <td>0</td>\n",
       "      <td>0</td>\n",
       "      <td>1</td>\n",
       "      <td>0</td>\n",
       "      <td>0</td>\n",
       "    </tr>\n",
       "  </tbody>\n",
       "</table>\n",
       "</div>"
      ],
      "text/plain": [
       "        Age     Sex       Dx       Rx       Hx       Sx  Normal  AF  I-AVB  \\\n",
       "PID                                                                          \n",
       "A1516  82.0    Male      PAC  Unknown  Unknown  Unknows       0   0      0   \n",
       "A2989  87.0  Female     RBBB  Unknown  Unknown  Unknows       0   0      0   \n",
       "A0109  75.0  Female  AF,RBBB  Unknown  Unknown  Unknows       0   1      0   \n",
       "A3465  24.0  Female   Normal  Unknown  Unknown  Unknows       1   0      0   \n",
       "A5081  65.0    Male      PVC  Unknown  Unknown  Unknows       0   0      0   \n",
       "\n",
       "       LBBB  RBBB  PAC  PVC  STD  STE  \n",
       "PID                                    \n",
       "A1516     0     0    1    0    0    0  \n",
       "A2989     0     1    0    0    0    0  \n",
       "A0109     0     1    0    0    0    0  \n",
       "A3465     0     0    0    0    0    0  \n",
       "A5081     0     0    0    1    0    0  "
      ]
     },
     "execution_count": 3,
     "metadata": {},
     "output_type": "execute_result"
    }
   ],
   "source": [
    "df = pd.read_csv(meta_trn_pth).set_index('PID')\n",
    "df.head()"
   ]
  },
  {
   "cell_type": "code",
   "execution_count": 4,
   "metadata": {},
   "outputs": [
    {
     "data": {
      "text/plain": [
       "Normal    0.133488\n",
       "AF        0.177548\n",
       "I-AVB     0.104988\n",
       "LBBB      0.034317\n",
       "RBBB      0.270031\n",
       "PAC       0.089574\n",
       "PVC       0.101789\n",
       "STD       0.126363\n",
       "STE       0.031991\n",
       "dtype: float64"
      ]
     },
     "execution_count": 4,
     "metadata": {},
     "output_type": "execute_result"
    }
   ],
   "source": [
    "df[cols].mean()"
   ]
  },
  {
   "cell_type": "code",
   "execution_count": 5,
   "metadata": {},
   "outputs": [],
   "source": [
    "#export\n",
    "def pad_batch(x, pad_to=3000, value=-1):\n",
    "    bs_pad = pad_to-x.shape[-1]\n",
    "    pad = [0]*len(x.shape)\n",
    "    pad[-1] = bs_pad\n",
    "    return F.pad(x, pad=pad, value=value)[:,:pad_to]\n",
    "\n",
    "class OpenEEG():\n",
    "    def __init__(self, df, path, max_ts=4000):\n",
    "        self.df = df\n",
    "        self.path = path\n",
    "        self.max_ts = max_ts\n",
    "    def x(self, pid): \n",
    "        p = self.path/f'{pid}.npy'\n",
    "        val = np.load(str(p)).astype(np.float32)\n",
    "        return pad_batch(torch.from_numpy(val), pad_to=self.max_ts)\n",
    "    def y(self, pid): \n",
    "        vals = self.df.loc[pid,cols].values.astype(np.float32)\n",
    "        return vals"
   ]
  },
  {
   "cell_type": "code",
   "execution_count": 6,
   "metadata": {},
   "outputs": [],
   "source": [
    "ids = df.index.values\n",
    "splits = RandomSplitter()(ids)\n",
    "tfm = OpenEEG(df, trn_path)\n",
    "dsets = Datasets(ids, [[tfm.x], [tfm.y]], splits=splits)"
   ]
  },
  {
   "cell_type": "code",
   "execution_count": 7,
   "metadata": {},
   "outputs": [
    {
     "data": {
      "text/plain": [
       "(torch.Size([12, 4000]),\n",
       " array([0., 0., 0., 0., 0., 1., 0., 0., 0.], dtype=float32))"
      ]
     },
     "execution_count": 7,
     "metadata": {},
     "output_type": "execute_result"
    }
   ],
   "source": [
    "x,y = dsets[0]\n",
    "x.shape, y"
   ]
  },
  {
   "cell_type": "code",
   "execution_count": 8,
   "metadata": {},
   "outputs": [],
   "source": [
    "bs = 32\n",
    "dls = dsets.dataloaders(bs=bs, num_workers=2)"
   ]
  },
  {
   "cell_type": "code",
   "execution_count": 9,
   "metadata": {},
   "outputs": [],
   "source": [
    "szs = [12, 32, 64, 128, 256]\n",
    "m = nn.Sequential(\n",
    "    *[ResBlock(1, szs[i], szs[i+1], ndim=1, stride=2) for i in range(len(szs)-1)],\n",
    "    AdaptiveAvgPool(1, ndim=1),\n",
    "    Flatten(),\n",
    "    nn.Linear(szs[-1], len(cols))\n",
    ").cuda()"
   ]
  },
  {
   "cell_type": "code",
   "execution_count": 10,
   "metadata": {},
   "outputs": [],
   "source": [
    "lf = BCEWithLogitsLossFlat"
   ]
  },
  {
   "cell_type": "code",
   "execution_count": 11,
   "metadata": {},
   "outputs": [
    {
     "data": {
      "text/plain": [
       "(tensor(0.6832, device='cuda:0', grad_fn=<BinaryCrossEntropyWithLogitsBackward>),\n",
       " torch.Size([32, 12, 4000]),\n",
       " torch.Size([32, 9]))"
      ]
     },
     "execution_count": 11,
     "metadata": {},
     "output_type": "execute_result"
    }
   ],
   "source": [
    "xb,yb = dls.one_batch()\n",
    "l = lf()\n",
    "out = m(xb)\n",
    "loss = l(out, yb)\n",
    "loss, xb.shape, out.shape"
   ]
  },
  {
   "cell_type": "code",
   "execution_count": 12,
   "metadata": {},
   "outputs": [],
   "source": [
    "fscore = FBetaMulti(2)\n",
    "learn = Learner(dls, m, loss_func=lf(), lr=3e-3, metrics=[accuracy_multi, fscore])"
   ]
  },
  {
   "cell_type": "code",
   "execution_count": 13,
   "metadata": {},
   "outputs": [
    {
     "data": {
      "text/plain": [
       "Sequential (Input shape: ['32 x 12 x 4000'])\n",
       "================================================================\n",
       "Layer (type)         Output Shape         Param #    Trainable \n",
       "================================================================\n",
       "Conv1d               32 x 32 x 2000       1,152      True      \n",
       "________________________________________________________________\n",
       "BatchNorm1d          32 x 32 x 2000       64         True      \n",
       "________________________________________________________________\n",
       "ReLU                 32 x 32 x 2000       0          False     \n",
       "________________________________________________________________\n",
       "Conv1d               32 x 32 x 2000       3,072      True      \n",
       "________________________________________________________________\n",
       "BatchNorm1d          32 x 32 x 2000       64         True      \n",
       "________________________________________________________________\n",
       "AvgPool1d            32 x 12 x 2000       0          False     \n",
       "________________________________________________________________\n",
       "Conv1d               32 x 32 x 2000       384        True      \n",
       "________________________________________________________________\n",
       "BatchNorm1d          32 x 32 x 2000       64         True      \n",
       "________________________________________________________________\n",
       "ReLU                 32 x 32 x 2000       0          False     \n",
       "________________________________________________________________\n",
       "Conv1d               32 x 64 x 1000       6,144      True      \n",
       "________________________________________________________________\n",
       "BatchNorm1d          32 x 64 x 1000       128        True      \n",
       "________________________________________________________________\n",
       "ReLU                 32 x 64 x 1000       0          False     \n",
       "________________________________________________________________\n",
       "Conv1d               32 x 64 x 1000       12,288     True      \n",
       "________________________________________________________________\n",
       "BatchNorm1d          32 x 64 x 1000       128        True      \n",
       "________________________________________________________________\n",
       "AvgPool1d            32 x 32 x 1000       0          False     \n",
       "________________________________________________________________\n",
       "Conv1d               32 x 64 x 1000       2,048      True      \n",
       "________________________________________________________________\n",
       "BatchNorm1d          32 x 64 x 1000       128        True      \n",
       "________________________________________________________________\n",
       "ReLU                 32 x 64 x 1000       0          False     \n",
       "________________________________________________________________\n",
       "Conv1d               32 x 128 x 500       24,576     True      \n",
       "________________________________________________________________\n",
       "BatchNorm1d          32 x 128 x 500       256        True      \n",
       "________________________________________________________________\n",
       "ReLU                 32 x 128 x 500       0          False     \n",
       "________________________________________________________________\n",
       "Conv1d               32 x 128 x 500       49,152     True      \n",
       "________________________________________________________________\n",
       "BatchNorm1d          32 x 128 x 500       256        True      \n",
       "________________________________________________________________\n",
       "AvgPool1d            32 x 64 x 500        0          False     \n",
       "________________________________________________________________\n",
       "Conv1d               32 x 128 x 500       8,192      True      \n",
       "________________________________________________________________\n",
       "BatchNorm1d          32 x 128 x 500       256        True      \n",
       "________________________________________________________________\n",
       "ReLU                 32 x 128 x 500       0          False     \n",
       "________________________________________________________________\n",
       "Conv1d               32 x 256 x 250       98,304     True      \n",
       "________________________________________________________________\n",
       "BatchNorm1d          32 x 256 x 250       512        True      \n",
       "________________________________________________________________\n",
       "ReLU                 32 x 256 x 250       0          False     \n",
       "________________________________________________________________\n",
       "Conv1d               32 x 256 x 250       196,608    True      \n",
       "________________________________________________________________\n",
       "BatchNorm1d          32 x 256 x 250       512        True      \n",
       "________________________________________________________________\n",
       "AvgPool1d            32 x 128 x 250       0          False     \n",
       "________________________________________________________________\n",
       "Conv1d               32 x 256 x 250       32,768     True      \n",
       "________________________________________________________________\n",
       "BatchNorm1d          32 x 256 x 250       512        True      \n",
       "________________________________________________________________\n",
       "ReLU                 32 x 256 x 250       0          False     \n",
       "________________________________________________________________\n",
       "AdaptiveAvgPool1d    32 x 256 x 1         0          False     \n",
       "________________________________________________________________\n",
       "Flatten              32 x 256             0          False     \n",
       "________________________________________________________________\n",
       "Linear               32 x 9               2,313      True      \n",
       "________________________________________________________________\n",
       "\n",
       "Total params: 439,881\n",
       "Total trainable params: 439,881\n",
       "Total non-trainable params: 0\n",
       "\n",
       "Optimizer used: <function Adam at 0x7f64844a2ef0>\n",
       "Loss function: FlattenedLoss of BCEWithLogitsLoss()\n",
       "\n",
       "Callbacks:\n",
       "  - TrainEvalCallback\n",
       "  - Recorder\n",
       "  - ProgressCallback"
      ]
     },
     "execution_count": 13,
     "metadata": {},
     "output_type": "execute_result"
    }
   ],
   "source": [
    "learn.summary()"
   ]
  },
  {
   "cell_type": "code",
   "execution_count": 14,
   "metadata": {},
   "outputs": [
    {
     "data": {
      "text/html": [],
      "text/plain": [
       "<IPython.core.display.HTML object>"
      ]
     },
     "metadata": {},
     "output_type": "display_data"
    },
    {
     "data": {
      "text/plain": [
       "(0.13182567358016967, 0.004365158267319202)"
      ]
     },
     "execution_count": 14,
     "metadata": {},
     "output_type": "execute_result"
    },
    {
     "data": {
      "image/png": "[encoded data removed]",
      "text/plain": [
       "<Figure size 432x288 with 1 Axes>"
      ]
     },
     "metadata": {
      "needs_background": "light"
     },
     "output_type": "display_data"
    }
   ],
   "source": [
    "learn.lr_find()"
   ]
  },
  {
   "cell_type": "code",
   "execution_count": 15,
   "metadata": {},
   "outputs": [
    {
     "data": {
      "text/plain": [
       "0.8811012553923707"
      ]
     },
     "execution_count": 15,
     "metadata": {},
     "output_type": "execute_result"
    }
   ],
   "source": [
    "# RANDOM ACCURACY BASELINE\n",
    "1 - df[cols].values.mean()"
   ]
  },
  {
   "cell_type": "code",
   "execution_count": 16,
   "metadata": {},
   "outputs": [
    {
     "data": {
      "text/html": [
       "<table border=\"1\" class=\"dataframe\">\n",
       "  <thead>\n",
       "    <tr style=\"text-align: left;\">\n",
       "      <th>epoch</th>\n",
       "      <th>train_loss</th>\n",
       "      <th>valid_loss</th>\n",
       "      <th>accuracy_multi</th>\n",
       "      <th>fbeta_score</th>\n",
       "      <th>time</th>\n",
       "    </tr>\n",
       "  </thead>\n",
       "  <tbody>\n",
       "    <tr>\n",
       "      <td>0</td>\n",
       "      <td>0.284160</td>\n",
       "      <td>0.265294</td>\n",
       "      <td>0.902950</td>\n",
       "      <td>0.219841</td>\n",
       "      <td>00:09</td>\n",
       "    </tr>\n",
       "    <tr>\n",
       "      <td>1</td>\n",
       "      <td>0.261938</td>\n",
       "      <td>0.226259</td>\n",
       "      <td>0.919434</td>\n",
       "      <td>0.332783</td>\n",
       "      <td>00:08</td>\n",
       "    </tr>\n",
       "    <tr>\n",
       "      <td>2</td>\n",
       "      <td>0.214791</td>\n",
       "      <td>0.216178</td>\n",
       "      <td>0.919515</td>\n",
       "      <td>0.383879</td>\n",
       "      <td>00:08</td>\n",
       "    </tr>\n",
       "    <tr>\n",
       "      <td>3</td>\n",
       "      <td>0.204566</td>\n",
       "      <td>0.189549</td>\n",
       "      <td>0.930344</td>\n",
       "      <td>0.456513</td>\n",
       "      <td>00:08</td>\n",
       "    </tr>\n",
       "    <tr>\n",
       "      <td>4</td>\n",
       "      <td>0.182721</td>\n",
       "      <td>0.176464</td>\n",
       "      <td>0.935515</td>\n",
       "      <td>0.487816</td>\n",
       "      <td>00:08</td>\n",
       "    </tr>\n",
       "    <tr>\n",
       "      <td>5</td>\n",
       "      <td>0.163457</td>\n",
       "      <td>0.154874</td>\n",
       "      <td>0.946101</td>\n",
       "      <td>0.570384</td>\n",
       "      <td>00:08</td>\n",
       "    </tr>\n",
       "    <tr>\n",
       "      <td>6</td>\n",
       "      <td>0.146864</td>\n",
       "      <td>0.146124</td>\n",
       "      <td>0.948606</td>\n",
       "      <td>0.595599</td>\n",
       "      <td>00:08</td>\n",
       "    </tr>\n",
       "    <tr>\n",
       "      <td>7</td>\n",
       "      <td>0.138962</td>\n",
       "      <td>0.145110</td>\n",
       "      <td>0.949253</td>\n",
       "      <td>0.605283</td>\n",
       "      <td>00:08</td>\n",
       "    </tr>\n",
       "  </tbody>\n",
       "</table>"
      ],
      "text/plain": [
       "<IPython.core.display.HTML object>"
      ]
     },
     "metadata": {},
     "output_type": "display_data"
    }
   ],
   "source": [
    "learn.fit_one_cycle(8, lr_max=1e-2)"
   ]
  }
 ],
 "metadata": {
  "kernelspec": {
   "display_name": "Python 3",
   "language": "python",
   "name": "python3"
  },
  "language_info": {
   "codemirror_mode": {
    "name": "ipython",
    "version": 3
   },
   "file_extension": ".py",
   "mimetype": "text/x-python",
   "name": "python",
   "nbconvert_exporter": "python",
   "pygments_lexer": "ipython3",
   "version": "3.7.6"
  }
 },
 "nbformat": 4,
 "nbformat_minor": 4
}
